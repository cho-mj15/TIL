{
 "cells": [
  {
   "cell_type": "code",
   "execution_count": 3,
   "metadata": {},
   "outputs": [
    {
     "name": "stdout",
     "output_type": "stream",
     "text": [
      "604\n"
     ]
    }
   ],
   "source": [
    "scoreList = [20, 55, 67, 82, 45, 33, 90, 87, 100, 25]\n",
    "total = 0\n",
    "\n",
    "#scoreList 안에 뭔가가 있는 동안\n",
    "#if(scoreList)\n",
    "while(scoreList):\n",
    "    score = scoreList.pop()\n",
    "    total += score\n",
    "\n",
    "# 코드 작성 - List pop() 함수 이용\n",
    "print(total)\n"
   ]
  },
  {
   "cell_type": "code",
   "execution_count": null,
   "metadata": {},
   "outputs": [],
   "source": [
    "studentInfo = {\n",
    " 'a':33, 'b':55, 'c':67, 'd':82, 'e':45,\n",
    " 'f':33, 'g':90, 'h':87, 'i': 100, 'j':25\n",
    "}\n",
    "total = 0\n",
    "\n",
    "s_list = list.pop(studentinfo.values())\n",
    "\n",
    "\n",
    "\n",
    "# 코드 작성 - Dictionary values(), List pop() 등 이용\n",
    "print(total)"
   ]
  },
  {
   "cell_type": "code",
   "execution_count": null,
   "metadata": {},
   "outputs": [],
   "source": [
    "i = 1 # '*' 개수\n",
    "\n",
    "while i <= 5:\n",
    "    print('*' * i)\n",
    "    i += 1\n",
    "    "
   ]
  },
  {
   "cell_type": "code",
   "execution_count": null,
   "metadata": {},
   "outputs": [],
   "source": [
    "import random\n",
    "lottoList = set()\n",
    "while len(lottoList) < 6:\n",
    "    lottoList.add(random.randlist)"
   ]
  },
  {
   "cell_type": "code",
   "execution_count": null,
   "metadata": {},
   "outputs": [],
   "source": [
    "for i in range(0,10):\n",
    "    print(i,end='')"
   ]
  },
  {
   "cell_type": "code",
   "execution_count": null,
   "metadata": {},
   "outputs": [],
   "source": [
    "data = list(range(1,101))\n",
    "#17의 배수만 list로 빼내보자\n",
    "result = [x for x in data if x % 17 == 0]\n",
    "result"
   ]
  },
  {
   "cell_type": "code",
   "execution_count": null,
   "metadata": {},
   "outputs": [],
   "source": [
    "result = []\n",
    "for x in range(2,3):\n",
    "    for y in range(1,10):\n",
    "        result.append(x*y) # result = [x * y]\n",
    "        result"
   ]
  },
  {
   "cell_type": "code",
   "execution_count": null,
   "metadata": {},
   "outputs": [],
   "source": [
    "count = 0\n",
    "data = list(range(1,101))\n",
    "for i in data:\n",
    "if ('3' str(i)):\n",
    "    print(i)\n"
   ]
  },
  {
   "cell_type": "code",
   "execution_count": null,
   "metadata": {},
   "outputs": [],
   "source": [
    "list = [10, 20, 30, 40, 50, 60, 70]\n",
    "#역순\n",
    "for i in reversed(range(len(list))):\n",
    "#for i in range(len(list)-1 ,0 ,-1):과 같은 문장    \n",
    "    if list[i] % 3 == 0:\n",
    "        list.pop(i):\n",
    "            print(list)"
   ]
  },
  {
   "cell_type": "code",
   "execution_count": null,
   "metadata": {},
   "outputs": [],
   "source": [
    "def isOdd(num):\n",
    "    return num % 2 1=0\n",
    "print(isOdd(2))\n",
    "print(isOdd(3))\n"
   ]
  },
  {
   "cell_type": "code",
   "execution_count": null,
   "metadata": {},
   "outputs": [],
   "source": [
    "def plus(num1, num2):\n",
    "    return num1 + num2\n",
    "def minus(num1, num2):\n",
    "    return num1 - num2\n",
    "\n",
    "result1 = plus(5,3))"
   ]
  }
 ],
 "metadata": {
  "kernelspec": {
   "display_name": "Python 3",
   "language": "python",
   "name": "python3"
  },
  "language_info": {
   "codemirror_mode": {
    "name": "ipython",
    "version": 3
   },
   "file_extension": ".py",
   "mimetype": "text/x-python",
   "name": "python",
   "nbconvert_exporter": "python",
   "pygments_lexer": "ipython3",
   "version": "3.7.4"
  }
 },
 "nbformat": 4,
 "nbformat_minor": 2
}
