{
 "cells": [
  {
   "cell_type": "code",
   "execution_count": 1,
   "metadata": {},
   "outputs": [
    {
     "data": {
      "text/plain": [
       "200"
      ]
     },
     "execution_count": 1,
     "metadata": {},
     "output_type": "execute_result"
    }
   ],
   "source": [
    "import requests\n",
    "result = requests.get('http://ggoreb.com/http')\n",
    "result.status_code\n"
   ]
  },
  {
   "cell_type": "code",
   "execution_count": 2,
   "metadata": {},
   "outputs": [
    {
     "data": {
      "text/plain": [
       "\"<html lang='ko'>\\n<head>\\n    <meta charset='utf-8' >\\n</head>\\n<body>\\n    <h3>\\n        <a href='#'>í\\x97\\x88ë\\x8b\\x88ë¹\\x84</a>\\n    </h3>\\n</body>\\n</html>\""
      ]
     },
     "execution_count": 2,
     "metadata": {},
     "output_type": "execute_result"
    }
   ],
   "source": [
    "result.text"
   ]
  },
  {
   "cell_type": "code",
   "execution_count": 3,
   "metadata": {},
   "outputs": [
    {
     "data": {
      "text/plain": [
       "\"<html lang='ko'>\\n<head>\\n    <meta charset='utf-8' >\\n</head>\\n<body>\\n    <h3>\\n        <a href='#'>허니비</a>\\n    </h3>\\n</body>\\n</html>\""
      ]
     },
     "execution_count": 3,
     "metadata": {},
     "output_type": "execute_result"
    }
   ],
   "source": [
    "result.encoding = 'utf-8'\n",
    "result.text"
   ]
  },
  {
   "cell_type": "code",
   "execution_count": 4,
   "metadata": {},
   "outputs": [],
   "source": [
    "def get_html(url):\n",
    "    html = ''\n",
    "    res = requests.get(url)\n",
    "    if res.status_code == 200:\n",
    "        res.encoding = 'utf-8'\n",
    "        html = res.text\n",
    "    return html"
   ]
  },
  {
   "cell_type": "code",
   "execution_count": 5,
   "metadata": {},
   "outputs": [
    {
     "name": "stdout",
     "output_type": "stream",
     "text": [
      "200\n",
      "\n",
      "\n",
      "\n",
      "method : GET<br>\n",
      "query string<br>\n",
      "<br><br>\n",
      "header<br>\n",
      "key : accept, value : */*<br>\n",
      "key : Accept-Encoding, value : gzip, deflate<br>\n",
      "key : connection, value : close<br>\n",
      "key : host, value : ggoreb.com<br>\n",
      "key : HOSTING_CONTINENT_CODE, value : AS<br>\n",
      "key : HOSTING_COUNTRY_CODE, value : KR<br>\n",
      "key : HOSTING_WHITE_IP, value : false<br>\n",
      "key : user-agent, value : python-requests/2.22.0<br>\n",
      "key : X-Forwarded-Proto, value : http<br>\n",
      "key : X-SERVER_PORT, value : 80<br>\n",
      "key : X-SERVER_PROTOCOL, value : HTTP/1.1<br>\n",
      "key : X-SIMPLEXI, value : 121.162.136.136<br>\n",
      "key : content-length, value : 0<br>\n",
      "\n"
     ]
    }
   ],
   "source": [
    "import requests\n",
    "res = requests.get('http://ggoreb.com/python/request.jsp')\n",
    "print(res.status_code)\n",
    "print(res.text)"
   ]
  },
  {
   "cell_type": "code",
   "execution_count": 8,
   "metadata": {},
   "outputs": [
    {
     "name": "stdout",
     "output_type": "stream",
     "text": [
      "\n",
      "\n",
      "\n",
      "method : GET<br>\n",
      "query string<br>\n",
      "<br><br>\n",
      "header<br>\n",
      "key : accept, value : */*<br>\n",
      "key : Accept-Encoding, value : gzip, deflate<br>\n",
      "key : accept-language, value : en<br>\n",
      "key : connection, value : close<br>\n",
      "key : host, value : ggoreb.com<br>\n",
      "key : HOSTING_CONTINENT_CODE, value : AS<br>\n",
      "key : HOSTING_COUNTRY_CODE, value : KR<br>\n",
      "key : HOSTING_WHITE_IP, value : false<br>\n",
      "key : user-agent, value : android<br>\n",
      "key : X-Forwarded-Proto, value : http<br>\n",
      "key : X-SERVER_PORT, value : 80<br>\n",
      "key : X-SERVER_PROTOCOL, value : HTTP/1.1<br>\n",
      "key : X-SIMPLEXI, value : 121.162.136.136<br>\n",
      "key : content-length, value : 0<br>\n",
      "\n"
     ]
    }
   ],
   "source": [
    "import requests\n",
    "header = { 'user-agent': 'android', 'accept-language': 'en' }\n",
    "res = requests.get('http://ggoreb.com/python/request.jsp', headers=header)\n",
    "print(res.text)"
   ]
  },
  {
   "cell_type": "code",
   "execution_count": null,
   "metadata": {},
   "outputs": [],
   "source": []
  }
 ],
 "metadata": {
  "kernelspec": {
   "display_name": "Python 3",
   "language": "python",
   "name": "python3"
  },
  "language_info": {
   "codemirror_mode": {
    "name": "ipython",
    "version": 3
   },
   "file_extension": ".py",
   "mimetype": "text/x-python",
   "name": "python",
   "nbconvert_exporter": "python",
   "pygments_lexer": "ipython3",
   "version": "3.7.4"
  }
 },
 "nbformat": 4,
 "nbformat_minor": 2
}
