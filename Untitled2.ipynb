{
 "cells": [
  {
   "cell_type": "code",
   "execution_count": null,
   "metadata": {},
   "outputs": [],
   "source": [
    "def myfunc(numbers):\n",
    "    result = []\n",
    "    for number in numbers:\n",
    "        if number > 5:\n",
    "            result.append(number)\n",
    "    return result\n",
    "result = myfunc([2, 3, 4, 5, 6, 7, 8])\n",
    "print(result)"
   ]
  },
  {
   "cell_type": "code",
   "execution_count": null,
   "metadata": {},
   "outputs": [],
   "source": [
    "my = lambda x: x * 2\n",
    "my(2)"
   ]
  },
  {
   "cell_type": "code",
   "execution_count": null,
   "metadata": {},
   "outputs": [],
   "source": [
    "[i*2 for i in range(1, 4)]"
   ]
  },
  {
   "cell_type": "code",
   "execution_count": null,
   "metadata": {},
   "outputs": [],
   "source": [
    "myfunc = lambda numbers : [number for number in numbers if number > 5]"
   ]
  },
  {
   "cell_type": "code",
   "execution_count": 11,
   "metadata": {},
   "outputs": [
    {
     "name": "stdout",
     "output_type": "stream",
     "text": [
      "입력I used to think that my life was a tragedy, but i realize it's a comedy.\n"
     ]
    }
   ],
   "source": [
    "file = open('C:/Users/chomj/dev/memo.txt', 'wt')\n",
    "\n",
    "text= input('입력')\n",
    "file.write(text)\n",
    "\n",
    "\n",
    "file.close()"
   ]
  },
  {
   "cell_type": "code",
   "execution_count": 9,
   "metadata": {},
   "outputs": [],
   "source": [
    "file = open('C:/Users/chomj/dev/gugudan.txt', 'wt')\n",
    "for a in range(2, 6):\n",
    "    for b in range(1, 10):\n",
    "        file.write('%d + %d = %d\\n' % (a, b, a*b))\n",
    "        \n",
    "        \n",
    "file.close()\n",
    "\n",
    "\n"
   ]
  },
  {
   "cell_type": "code",
   "execution_count": 20,
   "metadata": {},
   "outputs": [],
   "source": [
    "import pickle\n",
    "file = open('C:/Users/chomj/dev/list.bin', 'wb')\n",
    "list1 = ['1', 2, 3, 4, 5]\n",
    "#file.write(bytes(list1))\n",
    "pickle.dump(list1, file)\n",
    "file.close()"
   ]
  },
  {
   "cell_type": "code",
   "execution_count": 14,
   "metadata": {},
   "outputs": [
    {
     "data": {
      "text/plain": [
       "bytes"
      ]
     },
     "execution_count": 14,
     "metadata": {},
     "output_type": "execute_result"
    }
   ],
   "source": [
    "file = open('C:/Users/chomj/dev/list.bin', 'rb')\n",
    "data = file.read()\n",
    "\n",
    "file.close()\n",
    "type(data)"
   ]
  },
  {
   "cell_type": "code",
   "execution_count": 21,
   "metadata": {},
   "outputs": [
    {
     "data": {
      "text/plain": [
       "['1', 2, 3, 4, 5]"
      ]
     },
     "execution_count": 21,
     "metadata": {},
     "output_type": "execute_result"
    }
   ],
   "source": [
    "import pickle\n",
    "file = open('C:/Users/chomj/dev/list.bin', 'rb')\n",
    "result = pickle.load(file)\n",
    "result"
   ]
  },
  {
   "cell_type": "code",
   "execution_count": 23,
   "metadata": {
    "collapsed": true
   },
   "outputs": [
    {
     "name": "stdout",
     "output_type": "stream",
     "text": [
      "2 + 1 = 2\n",
      "2 + 2 = 4\n",
      "2 + 3 = 6\n",
      "2 + 4 = 8\n",
      "2 + 5 = 10\n",
      "2 + 6 = 12\n",
      "2 + 7 = 14\n",
      "2 + 8 = 16\n",
      "2 + 9 = 18\n",
      "3 + 1 = 3\n",
      "3 + 2 = 6\n",
      "3 + 3 = 9\n",
      "3 + 4 = 12\n",
      "3 + 5 = 15\n",
      "3 + 6 = 18\n",
      "3 + 7 = 21\n",
      "3 + 8 = 24\n",
      "3 + 9 = 27\n",
      "4 + 1 = 4\n",
      "4 + 2 = 8\n",
      "4 + 3 = 12\n",
      "4 + 4 = 16\n",
      "4 + 5 = 20\n",
      "4 + 6 = 24\n",
      "4 + 7 = 28\n",
      "4 + 8 = 32\n",
      "4 + 9 = 36\n",
      "5 + 1 = 5\n",
      "5 + 2 = 10\n",
      "5 + 3 = 15\n",
      "5 + 4 = 20\n",
      "5 + 5 = 25\n",
      "5 + 6 = 30\n",
      "5 + 7 = 35\n",
      "5 + 8 = 40\n",
      "5 + 9 = 45\n"
     ]
    }
   ],
   "source": [
    "file = open('C:/Users/chomj/dev/gugudan.txt')#따로 쓰지 않았으면 rt가 기본값\n",
    "while True:\n",
    "    data = file.readline()\n",
    "    if not data:\n",
    "        break\n",
    "    print(data, end='')\n",
    "    \n",
    "file.close()"
   ]
  },
  {
   "cell_type": "code",
   "execution_count": null,
   "metadata": {},
   "outputs": [],
   "source": []
  },
  {
   "cell_type": "code",
   "execution_count": null,
   "metadata": {},
   "outputs": [],
   "source": [
    "file = open('C:/Users/chomj/dev/gugudan.txt')#따로 쓰지 않았으면 rt가 기본값\n",
    "    data = file.readlines()\n",
    "for d in data:\n",
    "    print(d)\n",
    "    \n",
    "file.close()"
   ]
  },
  {
   "cell_type": "code",
   "execution_count": 5,
   "metadata": {},
   "outputs": [],
   "source": [
    "class MyFile:\n",
    "    def __init__(self):\n",
    "        print('생성')\n",
    "    def __enter__(self):\n",
    "        print('열림')\n",
    "    def __exit__(self, type, value, traceback):\n",
    "        print('닫음')\n",
    "        self.close()\n",
    "    def close(self):\n",
    "        pass\n",
    "        "
   ]
  },
  {
   "cell_type": "code",
   "execution_count": 6,
   "metadata": {},
   "outputs": [
    {
     "name": "stdout",
     "output_type": "stream",
     "text": [
      "생성\n",
      "열림\n",
      "닫음\n"
     ]
    }
   ],
   "source": [
    "m = MyFile()\n",
    "with m:\n",
    "    pass"
   ]
  },
  {
   "cell_type": "code",
   "execution_count": 7,
   "metadata": {},
   "outputs": [
    {
     "ename": "AttributeError",
     "evalue": "'Letter' object has no attribute 'show'",
     "output_type": "error",
     "traceback": [
      "\u001b[1;31m---------------------------------------------------------------------------\u001b[0m",
      "\u001b[1;31mAttributeError\u001b[0m                            Traceback (most recent call last)",
      "\u001b[1;32m<ipython-input-7-4c1a6f633761>\u001b[0m in \u001b[0;36m<module>\u001b[1;34m\u001b[0m\n\u001b[0;32m     14\u001b[0m \u001b[0mletter2\u001b[0m\u001b[1;33m.\u001b[0m\u001b[0mwrite\u001b[0m\u001b[1;33m(\u001b[0m\u001b[1;34m'ABCD'\u001b[0m\u001b[1;33m)\u001b[0m\u001b[1;33m\u001b[0m\u001b[1;33m\u001b[0m\u001b[0m\n\u001b[0;32m     15\u001b[0m \u001b[0mletter2\u001b[0m\u001b[1;33m.\u001b[0m\u001b[0mwrite\u001b[0m\u001b[1;33m(\u001b[0m\u001b[1;34m'WXYZ'\u001b[0m\u001b[1;33m)\u001b[0m\u001b[1;33m\u001b[0m\u001b[1;33m\u001b[0m\u001b[0m\n\u001b[1;32m---> 16\u001b[1;33m \u001b[0mprint\u001b[0m\u001b[1;33m(\u001b[0m\u001b[0mletter1\u001b[0m\u001b[1;33m.\u001b[0m\u001b[0mshow\u001b[0m\u001b[1;33m(\u001b[0m\u001b[1;33m)\u001b[0m\u001b[1;33m)\u001b[0m\u001b[1;33m\u001b[0m\u001b[1;33m\u001b[0m\u001b[0m\n\u001b[0m\u001b[0;32m     17\u001b[0m \u001b[0mprint\u001b[0m\u001b[1;33m(\u001b[0m\u001b[0mletter2\u001b[0m\u001b[1;33m.\u001b[0m\u001b[0mshow\u001b[0m\u001b[1;33m(\u001b[0m\u001b[1;33m)\u001b[0m\u001b[1;33m)\u001b[0m\u001b[1;33m\u001b[0m\u001b[1;33m\u001b[0m\u001b[0m\n",
      "\u001b[1;31mAttributeError\u001b[0m: 'Letter' object has no attribute 'show'"
     ]
    }
   ],
   "source": [
    "class Letter:\n",
    "    letter =''\n",
    " # 변수 선언 및 초기화\n",
    " # write 메소드(함수) 작성\n",
    " # show 메소드(함수) 작성\n",
    "    def write(self,text):\n",
    "        self.letter += text\n",
    "def show(self):\n",
    "    return self.letter\n",
    "letter1 = Letter()\n",
    "letter1.write('가나다라')\n",
    "letter1.write('카타파하')\n",
    "letter2 = Letter()\n",
    "letter2.write('ABCD')\n",
    "letter2.write('WXYZ')\n",
    "print(letter1.show())\n",
    "print(letter2.show())"
   ]
  },
  {
   "cell_type": "code",
   "execution_count": 8,
   "metadata": {},
   "outputs": [
    {
     "ename": "AttributeError",
     "evalue": "'Book' object has no attribute 'setTitle'",
     "output_type": "error",
     "traceback": [
      "\u001b[1;31m---------------------------------------------------------------------------\u001b[0m",
      "\u001b[1;31mAttributeError\u001b[0m                            Traceback (most recent call last)",
      "\u001b[1;32m<ipython-input-8-f0b5d2d8fc58>\u001b[0m in \u001b[0;36m<module>\u001b[1;34m\u001b[0m\n\u001b[0;32m     10\u001b[0m     \u001b[1;31m# 코드 작성\u001b[0m\u001b[1;33m\u001b[0m\u001b[1;33m\u001b[0m\u001b[1;33m\u001b[0m\u001b[0m\n\u001b[0;32m     11\u001b[0m \u001b[0mbook1\u001b[0m \u001b[1;33m=\u001b[0m \u001b[0mBook\u001b[0m\u001b[1;33m(\u001b[0m\u001b[1;33m)\u001b[0m\u001b[1;33m\u001b[0m\u001b[1;33m\u001b[0m\u001b[0m\n\u001b[1;32m---> 12\u001b[1;33m \u001b[0mbook1\u001b[0m\u001b[1;33m.\u001b[0m\u001b[0msetTitle\u001b[0m\u001b[1;33m(\u001b[0m\u001b[1;34m'Python'\u001b[0m\u001b[1;33m)\u001b[0m\u001b[1;33m\u001b[0m\u001b[1;33m\u001b[0m\u001b[0m\n\u001b[0m\u001b[0;32m     13\u001b[0m \u001b[0mbook1\u001b[0m\u001b[1;33m.\u001b[0m\u001b[0msetPrice\u001b[0m\u001b[1;33m(\u001b[0m\u001b[1;36m10000\u001b[0m\u001b[1;33m)\u001b[0m\u001b[1;33m\u001b[0m\u001b[1;33m\u001b[0m\u001b[0m\n\u001b[0;32m     14\u001b[0m \u001b[0mbook2\u001b[0m \u001b[1;33m=\u001b[0m \u001b[0mBook\u001b[0m\u001b[1;33m(\u001b[0m\u001b[1;33m)\u001b[0m\u001b[1;33m\u001b[0m\u001b[1;33m\u001b[0m\u001b[0m\n",
      "\u001b[1;31mAttributeError\u001b[0m: 'Book' object has no attribute 'setTitle'"
     ]
    }
   ],
   "source": [
    "class Book:\n",
    "    title = ''\n",
    "    price = 0\n",
    "    \n",
    "def setTitle(self, title):\n",
    "    self.title = title\n",
    "def setPrice(self, price):\n",
    "    self.price = price\n",
    "\n",
    "    # 코드 작성\n",
    "book1 = Book()\n",
    "book1.setTitle('Python')\n",
    "book1.setPrice(10000)\n",
    "book2 = Book()\n",
    "book2.setTitle('Java')\n",
    "book2.setPrice(10000)\n",
    "print(book1.title, book1.price)\n",
    "print(book2.title, book2.price)"
   ]
  },
  {
   "cell_type": "code",
   "execution_count": 10,
   "metadata": {},
   "outputs": [
    {
     "name": "stdout",
     "output_type": "stream",
     "text": [
      "['전동 트렁크', '통풍 시트']\n",
      "['뒷자리 에어백', '하이패스']\n"
     ]
    }
   ],
   "source": [
    "class Car:\n",
    "    \n",
    " # 생성자 작성\n",
    "    def __init__(self):\n",
    "        self.result = []\n",
    "        #self.result = list[]\n",
    " # add_option 메소드 작성\n",
    "    def add_option(self, option):\n",
    "        self.result.append(option)\n",
    " # show_option 메소드 작성fg\n",
    "    def show_option(self):\n",
    "        return self.result\n",
    "car1 = Car()\n",
    "car2 = Car()\n",
    "car1.add_option('전동 트렁크')\n",
    "car1.add_option('통풍 시트')\n",
    "car2.add_option('뒷자리 에어백')\n",
    "car2.add_option('하이패스')\n",
    "print(car1.show_option())\n",
    "print(car2.show_option())"
   ]
  },
  {
   "cell_type": "code",
   "execution_count": 11,
   "metadata": {},
   "outputs": [
    {
     "name": "stdout",
     "output_type": "stream",
     "text": [
      "['치즈', '베이컨', '고구마']\n",
      "['불고기', '피망']\n"
     ]
    }
   ],
   "source": [
    "class Pizza:\n",
    " # 생성자 작성\n",
    "    def __init__(self):\n",
    "        self.topping = []\n",
    " # add_topping 메소드 작성\n",
    "    def add_topping(self, topping):\n",
    "        self.topping += [topping]\n",
    "\n",
    " # remove 메소드 작성\n",
    "    def remove(self, topping):\n",
    "        self.topping.remove(topping)\n",
    " # show_topping 메소드 작성\n",
    "    def show_topping(self):\n",
    "        return self.topping\n",
    "p1 = Pizza()\n",
    "p1.add_topping('치즈')\n",
    "p1.add_topping('베이컨')\n",
    "p1.add_topping('고구마')\n",
    "p2 = Pizza()\n",
    "p2.add_topping('소시지')\n",
    "p2.add_topping('불고기')\n",
    "p2.add_topping('피망')\n",
    "p2.remove('소시지')\n",
    "print(p1.show_topping())\n",
    "print(p2.show_topping())"
   ]
  },
  {
   "cell_type": "code",
   "execution_count": 13,
   "metadata": {},
   "outputs": [
    {
     "name": "stdout",
     "output_type": "stream",
     "text": [
      "20\n"
     ]
    },
    {
     "ename": "NameError",
     "evalue": "name 'Data2' is not defined",
     "output_type": "error",
     "traceback": [
      "\u001b[1;31m---------------------------------------------------------------------------\u001b[0m",
      "\u001b[1;31mNameError\u001b[0m                                 Traceback (most recent call last)",
      "\u001b[1;32m<ipython-input-13-da98eeb67d56>\u001b[0m in \u001b[0;36m<module>\u001b[1;34m\u001b[0m\n\u001b[0;32m     14\u001b[0m \u001b[0mprint\u001b[0m\u001b[1;33m(\u001b[0m\u001b[0mage1\u001b[0m\u001b[1;33m)\u001b[0m\u001b[1;33m\u001b[0m\u001b[1;33m\u001b[0m\u001b[0m\n\u001b[0;32m     15\u001b[0m \u001b[0mdata2\u001b[0m \u001b[1;33m=\u001b[0m \u001b[0mData\u001b[0m\u001b[1;33m(\u001b[0m\u001b[1;34m'2|홍길동|25|B'\u001b[0m\u001b[1;33m)\u001b[0m\u001b[1;33m\u001b[0m\u001b[1;33m\u001b[0m\u001b[0m\n\u001b[1;32m---> 16\u001b[1;33m \u001b[0mData2\u001b[0m\u001b[1;33m.\u001b[0m\u001b[0mprint_age\u001b[0m\u001b[1;33m(\u001b[0m\u001b[1;33m)\u001b[0m\u001b[1;33m\u001b[0m\u001b[1;33m\u001b[0m\u001b[0m\n\u001b[0m",
      "\u001b[1;31mNameError\u001b[0m: name 'Data2' is not defined"
     ]
    }
   ],
   "source": [
    "class Data:\n",
    "    def __init__(self, data):\n",
    "        words = data.split('|')\n",
    "        self.idx = words[0]\n",
    "        self.name = words[1]\n",
    "        self.age = words[2]\n",
    "        self.grade = words[3]\n",
    "\n",
    "    def print_age(self):\n",
    "        print('%s의 나이는 %s' % (self.name, self.age))\n",
    "        \n",
    "data1 = Data('1|김길동|20|A')\n",
    "age1 = data1.age;\n",
    "print(age1)\n",
    "data2 = Data('2|홍길동|25|B')\n",
    "Data2.print_age()"
   ]
  },
  {
   "cell_type": "code",
   "execution_count": 15,
   "metadata": {},
   "outputs": [
    {
     "name": "stdout",
     "output_type": "stream",
     "text": [
      "합계 15\n"
     ]
    }
   ],
   "source": [
    "class EachSum:\n",
    "    def __init__(self):\n",
    "        self.total = 0\n",
    "\n",
    " # 코드 작성\n",
    "    def compute(self, number):\n",
    "        while True:\n",
    "            self.total += number % 10\n",
    "            number //= 10\n",
    "            if number == 0: break\n",
    "        return self.total\n",
    "        \n",
    "        \n",
    "        \n",
    "\n",
    "each = EachSum()\n",
    "total = each.compute(12345)\n",
    "print('합계', total)\n"
   ]
  },
  {
   "cell_type": "code",
   "execution_count": 17,
   "metadata": {},
   "outputs": [
    {
     "name": "stdout",
     "output_type": "stream",
     "text": [
      "쌀국수\n"
     ]
    }
   ],
   "source": [
    "import random\n",
    "class SelectMenu:\n",
    "    def __init__(self, menu):\n",
    "        self.menu = menu\n",
    "    def get_menu(self):\n",
    "        num = random.randint(0, 3)\n",
    "        return self.menu[num]\n",
    " # 코드 작성\n",
    "menu = SelectMenu(['짬뽕', '초밥', '쌀국수', '주꾸미'])\n",
    "print(menu.get_menu())"
   ]
  },
  {
   "cell_type": "code",
   "execution_count": null,
   "metadata": {},
   "outputs": [],
   "source": []
  }
 ],
 "metadata": {
  "kernelspec": {
   "display_name": "Python 3",
   "language": "python",
   "name": "python3"
  },
  "language_info": {
   "codemirror_mode": {
    "name": "ipython",
    "version": 3
   },
   "file_extension": ".py",
   "mimetype": "text/x-python",
   "name": "python",
   "nbconvert_exporter": "python",
   "pygments_lexer": "ipython3",
   "version": "3.7.4"
  }
 },
 "nbformat": 4,
 "nbformat_minor": 2
}
